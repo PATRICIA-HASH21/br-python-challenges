{
  "cells": [
    {
      "cell_type": "markdown",
      "metadata": {
        "id": "view-in-github",
        "colab_type": "text"
      },
      "source": [
        "<a href=\"https://colab.research.google.com/github/PATRICIA-HASH21/br-python-challenges/blob/master/Desafio_09.ipynb\" target=\"_parent\"><img src=\"https://colab.research.google.com/assets/colab-badge.svg\" alt=\"Open In Colab\"/></a>"
      ]
    },
    {
      "cell_type": "markdown",
      "metadata": {
        "id": "HpvTpUBGf6Jr"
      },
      "source": [
        "### Desafio 9\n",
        "\n",
        "Escreva uma função que retorne a soma dos múltiplos de 3 e 5 entre 0 e um número limite, que vai ser utilizado como parâmetro. \\\n",
        "Por exemplo, se o limite for 20, ele retornará a soma de 3, 5, 6, 9, 10, 12, 15, 18, 20."
      ]
    },
    {
      "cell_type": "code",
      "execution_count": null,
      "metadata": {
        "id": "195C6bw-f6Js"
      },
      "outputs": [],
      "source": [
        "# Seu código"
      ]
    },
    {
      "cell_type": "code",
      "execution_count": 1,
      "metadata": {
        "id": "a_6aqcKp6wrN"
      },
      "outputs": [],
      "source": [
        "def retorna_soma_3_e_5(numero_limite):\n",
        "    numeros_entre_zero_e_limite = list(range(0,numero_limite + 1))\n",
        "    \n",
        "    # múltiplos de 3\n",
        "    multiplos = []\n",
        "    for cada_numero in numeros_entre_zero_e_limite:\n",
        "        if cada_numero != 0: # desconsiderar o zero (não altera a soma)\n",
        "            if (cada_numero % 3 == 0) or (cada_numero % 5 == 0): # é divísivel por 3 ou por 5\n",
        "                multiplos.append(cada_numero)\n",
        "        \n",
        "    multiplos = set(multiplos) # garantindo que não há repetição\n",
        "    print(multiplos)\n",
        "    return sum(multiplos)"
      ]
    },
    {
      "cell_type": "code",
      "source": [
        "retorna_soma_3_e_5(20)\n"
      ],
      "metadata": {
        "id": "L7H4bfZWbr70",
        "outputId": "5ce29481-2b59-4068-fb19-c1a56b4b06e4",
        "colab": {
          "base_uri": "https://localhost:8080/"
        }
      },
      "execution_count": 4,
      "outputs": [
        {
          "output_type": "stream",
          "name": "stdout",
          "text": [
            "{3, 5, 6, 9, 10, 12, 15, 18, 20}\n"
          ]
        },
        {
          "output_type": "execute_result",
          "data": {
            "text/plain": [
              "98"
            ]
          },
          "metadata": {},
          "execution_count": 4
        }
      ]
    }
  ],
  "metadata": {
    "anaconda-cloud": {},
    "colab": {
      "name": "Desafio 9.ipynb",
      "provenance": [],
      "include_colab_link": true
    },
    "kernelspec": {
      "display_name": "Python 3",
      "language": "python",
      "name": "python3"
    },
    "language_info": {
      "codemirror_mode": {
        "name": "ipython",
        "version": 3
      },
      "file_extension": ".py",
      "mimetype": "text/x-python",
      "name": "python",
      "nbconvert_exporter": "python",
      "pygments_lexer": "ipython3",
      "version": "3.7.9"
    }
  },
  "nbformat": 4,
  "nbformat_minor": 0
}