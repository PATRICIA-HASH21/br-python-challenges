{
  "cells": [
    {
      "cell_type": "markdown",
      "metadata": {
        "id": "view-in-github",
        "colab_type": "text"
      },
      "source": [
        "<a href=\"https://colab.research.google.com/github/PATRICIA-HASH21/br-python-challenges/blob/master/Desafio_12.ipynb\" target=\"_parent\"><img src=\"https://colab.research.google.com/assets/colab-badge.svg\" alt=\"Open In Colab\"/></a>"
      ]
    },
    {
      "cell_type": "markdown",
      "metadata": {
        "id": "AYHY2YXQf6J2"
      },
      "source": [
        "### Desafio 12\n",
        "\n",
        "Escreva uma função em Python para verificar a validade de uma senha.\n",
        "\n",
        "A senha deve ter:\n",
        "\n",
        "* Pelo menos 1 letra entre [a-z] e 1 letra entre [A-Z].\n",
        "* Pelo menos 1 número entre [0-9].\n",
        "* Pelo menos 1 caractere de [$ # @].\n",
        "* Comprimento mínimo de 6 caracteres.\n",
        "* Comprimento máximo de 16 caracteres.\n",
        "\n",
        "Entradas: \"12345678\", \"J3sus0\", \"#Te5t300\", \"J*90j12374\", \"Michheeul\", \"Monk3y6\"\n",
        "\n",
        "A saída deve ser a senha e um texto indicando se a senha é válida ou inválida:\n",
        "\n",
        "```\n",
        "\"1234\" - Senha inválida\n",
        "\"Qw#1234\" - Senha válida\n",
        "```"
      ]
    },
    {
      "cell_type": "code",
      "source": [
        "import re\n",
        "def test_password(password):\n",
        "     \n",
        "    min_number = 1\n",
        "    min_letra_maius = 1\n",
        "    min_letra_min = 1\n",
        "    min_caracter_esp = 1\n",
        "    min_senha = 6\n",
        "    max_senha = 16\n",
        "    min_special_char = 1\n",
        "    \n",
        "    if (len(password) < min_senha) or (len(password) > max_senha) or (len(re.findall(r\"[A-Z]\", password)) < min_letra_maius)\\\n",
        "    or (len(re.findall(r\"[a-z]\", password)) < min_letra_min) or (len(re.findall(r\"[@#$]\", password)) < min_special_char): # senha inválida\n",
        "        # pode usar qualquer uma das duas formas de printar as strings abaixo\n",
        "        print(f'\"{password}\" - Senha inválida') # f-string, com a string dentro das chaves\n",
        "        print(' \"{}\" - Senha inválida'.format(password)) # sem f-string, com as chaves em branco, e com a string dentro do método 'format'\n",
        "    else:\n",
        "        print(f'\"{password}\" - Senha válida')"
      ],
      "metadata": {
        "id": "kpr4hutkXF-w"
      },
      "execution_count": 4,
      "outputs": []
    },
    {
      "cell_type": "code",
      "source": [
        "test_password('1Mn@25')\n",
        "test_password('1Mn225')"
      ],
      "metadata": {
        "id": "3kH0kFXbXJK_",
        "outputId": "c1ea8414-0861-429a-fc25-d3af7036c37a",
        "colab": {
          "base_uri": "https://localhost:8080/"
        }
      },
      "execution_count": 8,
      "outputs": [
        {
          "output_type": "stream",
          "name": "stdout",
          "text": [
            "\"1Mn@25\" - Senha válida\n",
            "\"1Mn225\" - Senha inválida\n",
            " \"1Mn225\" - Senha inválida\n"
          ]
        }
      ]
    }
  ],
  "metadata": {
    "anaconda-cloud": {},
    "colab": {
      "name": "Desafio 12.ipynb",
      "provenance": [],
      "include_colab_link": true
    },
    "kernelspec": {
      "display_name": "Python 3",
      "language": "python",
      "name": "python3"
    },
    "language_info": {
      "codemirror_mode": {
        "name": "ipython",
        "version": 3
      },
      "file_extension": ".py",
      "mimetype": "text/x-python",
      "name": "python",
      "nbconvert_exporter": "python",
      "pygments_lexer": "ipython3",
      "version": "3.7.9"
    }
  },
  "nbformat": 4,
  "nbformat_minor": 0
}