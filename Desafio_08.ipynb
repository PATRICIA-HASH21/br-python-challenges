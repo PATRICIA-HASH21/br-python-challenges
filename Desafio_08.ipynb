{
  "cells": [
    {
      "cell_type": "markdown",
      "metadata": {
        "id": "view-in-github",
        "colab_type": "text"
      },
      "source": [
        "<a href=\"https://colab.research.google.com/github/PATRICIA-HASH21/br-python-challenges/blob/master/Desafio_08.ipynb\" target=\"_parent\"><img src=\"https://colab.research.google.com/assets/colab-badge.svg\" alt=\"Open In Colab\"/></a>"
      ]
    },
    {
      "cell_type": "markdown",
      "metadata": {
        "id": "o3tkeMDNf6Jo"
      },
      "source": [
        "### Desafio 8\n",
        "\n",
        "Escreva um script Python para encontrar as 10 palavras mais longas em um arquivo de texto.\n",
        "O arquivo .txt está localizado na mesma pasta do projeto (**texto.txt**)."
      ]
    },
    {
      "cell_type": "code",
      "execution_count": 2,
      "metadata": {
        "id": "EknxjSG0f6Jo"
      },
      "outputs": [],
      "source": [
        "import re\n",
        "texto = open(\"texto.txt\", 'r')  # abre o arquivo de texto para leitura\n",
        "palavras = re.findall(r\"[\\w']+|[.,!?;]\", texto.read()) # quebra o arquivo original de texto em uma lista, em que cada elemento é uma palavra do arquivo .txt\n",
        "\n",
        "# cria uma lista auxiliar com o comprimento de cada palavra\n",
        "comprimento_das_palavras = []\n",
        "for cada_palavra in palavras:\n",
        "    comprimento_das_palavras.append(len(cada_palavra))\n",
        "\n",
        "maiores_palavras = [] # lista com maiores palavras\n",
        "for contador in range(0,10):\n",
        "    posicao_na_lista = comprimento_das_palavras.index(max(comprimento_das_palavras)) # posição dentro da lista da maior palavra\n",
        "    palavra = palavras[posicao_na_lista] # a palavra em si\n",
        "    \n",
        "    maiores_palavras.append(palavra) # guarda na lista que será retornada\n",
        "    \n",
        "    comprimento_das_palavras[posicao_na_lista] = 0 # zera a palavra que já pegamos"
      ]
    },
    {
      "cell_type": "code",
      "execution_count": 3,
      "metadata": {
        "colab": {
          "base_uri": "https://localhost:8080/"
        },
        "id": "ZYbqEWBG5nKx",
        "outputId": "ec4bc399-c75a-41f8-f011-a9a838737e67"
      },
      "outputs": [
        {
          "output_type": "execute_result",
          "data": {
            "text/plain": [
              "['comprehensive',\n",
              " 'intermediate',\n",
              " 'interpreted',\n",
              " 'programming',\n",
              " 'readability',\n",
              " 'programmers',\n",
              " 'programming',\n",
              " 'programming',\n",
              " 'philosophy',\n",
              " 'emphasizes']"
            ]
          },
          "metadata": {},
          "execution_count": 3
        }
      ],
      "source": [
        "maiores_palavras"
      ]
    }
  ],
  "metadata": {
    "anaconda-cloud": {},
    "colab": {
      "name": "Desafio 8.ipynb",
      "provenance": [],
      "include_colab_link": true
    },
    "kernelspec": {
      "display_name": "Python 3",
      "language": "python",
      "name": "python3"
    },
    "language_info": {
      "codemirror_mode": {
        "name": "ipython",
        "version": 3
      },
      "file_extension": ".py",
      "mimetype": "text/x-python",
      "name": "python",
      "nbconvert_exporter": "python",
      "pygments_lexer": "ipython3",
      "version": "3.7.9"
    }
  },
  "nbformat": 4,
  "nbformat_minor": 0
}